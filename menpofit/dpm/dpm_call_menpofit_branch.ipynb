{
 "cells": [
  {
   "cell_type": "code",
   "execution_count": 25,
   "metadata": {
    "collapsed": true
   },
   "outputs": [],
   "source": [
    "import matplotlib.pyplot as plt\n",
    "import os\n",
    "try:\n",
    "    %matplotlib inline\n",
    "except NameError:  # in case it's a script. \n",
    "    pass\n",
    "\n",
    "from menpo.shape import Tree\n",
    "import numpy as np\n",
    "from numpy import size"
   ]
  },
  {
   "cell_type": "code",
   "execution_count": 26,
   "metadata": {
    "collapsed": false
   },
   "outputs": [
    {
     "name": "stdout",
     "output_type": "stream",
     "text": [
      "12\n",
      "5\n"
     ]
    }
   ],
   "source": [
    "a = np.zeros((3,4))\n",
    "print size(a)\n",
    "a = [1,2,3,4,5]\n",
    "print size(a)"
   ]
  },
  {
   "cell_type": "code",
   "execution_count": 27,
   "metadata": {
    "collapsed": true
   },
   "outputs": [],
   "source": [
    "from menpofit.dpm import DPM, DPMFitter, non_max_suppression_fast, clip_boxes, bb_to_lns"
   ]
  },
  {
   "cell_type": "code",
   "execution_count": 28,
   "metadata": {
    "collapsed": true
   },
   "outputs": [],
   "source": [
    "def get_components(model, pyra_pad):\n",
    "    from scipy.sparse import csr_matrix\n",
    "    # implementation of the modelcomponents to return the components\n",
    "    components = []\n",
    "    comp_m = model['components'][0][0][0] # *_m = * in matlab\n",
    "    for c in range(len(comp_m)):    # 13 components\n",
    "        cm = comp_m[c][0]\n",
    "        def_ids = []\n",
    "        filter_ids = []\n",
    "        parents = []\n",
    "        filter_index = []\n",
    "        bias = 0\n",
    "        anchors = []\n",
    "        num_parts = len(cm)\n",
    "        for k in range(num_parts):    # 68 parts\n",
    "            def_id = cm[k]['defid'][0][0]\n",
    "            def_ids.append(def_id)\n",
    "            filter_id = cm[k]['filterid'][0][0]\n",
    "            filter_ids.append(filter_id)\n",
    "            parents.append(cm[k]['parent'][0][0] - 1)\n",
    "            filter_index.append(model['filters'][0][0][0][filter_id - 1][1][0][0])  # -1 due to python numbering\n",
    "            x = model['defs'][0][0][0][def_id - 1]  # -1 due to python numbering\n",
    "            (ax, ay, ds) = np.copy(x['anchor'][0])\n",
    "            if k == 0:\n",
    "                bias = 1*x['w'][0][0]\n",
    "            anchors.append((ay, ax))\n",
    "        pairs = zip(parents, range(num_parts))\n",
    "        tree_matrix = csr_matrix(([1] * (num_parts-1), (zip(*pairs[1:]))), shape=(num_parts, num_parts))\n",
    "        tree = Tree(tree_matrix, root_vertex=0, skip_checks=True)\n",
    "        component = dict()\n",
    "        component['def_ids'] = def_ids\n",
    "        component['filter_ids'] = filter_ids\n",
    "        component['tree'] = tree\n",
    "        component['filter_index'] = filter_index\n",
    "        component['bias'] = bias\n",
    "        component['anchors'] = anchors\n",
    "        components.append(component)\n",
    "    # for c in range(len(comp_m)):\n",
    "    #     cm = comp_m[c][0]\n",
    "    #     comp_parts = []\n",
    "    #     for k in range(len(cm)):\n",
    "    #         p = {}\n",
    "    #         p['defid'] = cm[k]['defid'][0][0]\n",
    "    #         p['filterid'] = cm[k]['filterid'][0][0]\n",
    "    #         p['parent'] = cm[k]['parent'][0][0] - 1\n",
    "    #         p['filterI'] = model['filters'][0][0][0][p['filterid'] - 1][1][0][0]  # -1 due to python numbering\n",
    "    #\n",
    "    #         x = model['defs'][0][0][0][p['defid'] - 1]  # -1 due to python numbering\n",
    "    #         p['w'] = 1 * x['w'][0]  # http://stackoverflow.com/a/6435446\n",
    "    #         (ax, ay, ds) = np.copy(x['anchor'][0])\n",
    "    #         p['starty'] = ay\n",
    "    #         p['startx'] = ax\n",
    "    #\n",
    "    #         comp_parts.append(dict(p))\n",
    "    #     components.append(list(comp_parts)) # in outer loop\n",
    "    return components\n",
    "\n",
    "\n",
    "def copy_to_new_array(arr):\n",
    "    # copies each value of an original array to a new one in the same shape.\n",
    "    # Due to matlab having column-major.\n",
    "    sh = arr.shape\n",
    "    new = np.empty(sh, order='C')\n",
    "    for c in range(sh[0]):\n",
    "        for i in range(sh[1]):\n",
    "            for j in range(sh[2]):\n",
    "                new[c, i, j] = np.copy(arr[c, i, j])\n",
    "    return new\n",
    "\n",
    "\n",
    "def get_filters(model):\n",
    "    ff = model['filters'][0][0][0]\n",
    "    filters = []\n",
    "    for i in range(len(ff)):\n",
    "        tt = np.rollaxis(ff[i]['w'], 2)  # rollaxis, as long as matlab model is loaded (channels in front).\n",
    "        tt = tt[:-1, :, :]  # hack as long as matlab hog is loaded (32 vs 31 feats in python).\n",
    "        tt2 = copy_to_new_array(tt)\n",
    "        filters.append(tt2)\n",
    "    return filters\n",
    "\n",
    "def get_defs(model):\n",
    "    model_defs_all = model['defs'][0][0][0]\n",
    "    defs_all = []\n",
    "    for i in range(len(model_defs_all)):\n",
    "        defs = model_defs_all[i]['w'][0]\n",
    "        defs_all.append(defs)\n",
    "    return defs_all\n",
    "\n",
    "\n",
    "def debugging():\n",
    "    # temp debugging\n",
    "    # define the tree\n",
    "    from os.path import isdir\n",
    "    import scipy.io\n",
    "    from scipy.sparse import csr_matrix\n",
    "    import menpo.io as mio\n",
    "    m68 = csr_matrix(([1] * 67, (\n",
    "        [0,  0,  0,  0,  1,  3,  5,  6,  7,  8,  8,  9,  9, 10, 12, 13, 14,\n",
    "         15, 16, 17, 18, 20, 20, 21, 23, 24, 25, 26, 27, 28, 29, 31, 31, 31,\n",
    "         32, 32, 33, 33, 38, 38, 39, 39, 40, 43, 44, 45, 46, 46, 47, 48, 50,\n",
    "         51, 51, 52, 53, 54, 55, 56, 57, 58, 60, 61, 62, 63, 64, 65, 66],\n",
    "        [1,  3,  5, 31,  2,  4,  6,  7,  8,  9, 20, 10, 12, 11, 13, 14, 15,\n",
    "         16, 17, 18, 19, 21, 23, 22, 24, 25, 26, 27, 28, 29, 30, 32, 37, 38,\n",
    "         33, 36, 34, 35, 39, 42, 40, 41, 43, 44, 45, 46, 47, 50, 48, 49, 51,\n",
    "         52, 60, 53, 54, 55, 56, 57, 58, 59, 61, 62, 63, 64, 65, 66, 67])), shape=(68, 68))\n",
    "    tree = Tree(m68, root_vertex=0, skip_checks=True)   # ## check\n",
    "\n",
    "    # import the mat file (with the model).\n",
    "    pm = '/vol/atlas/homes/grigoris/external/dpm_ramanan/face-release1.0-basic/'\n",
    "    assert(isdir(pm))\n",
    "    file1 = pm + 'face_p146_small.mat'\n",
    "    mat = scipy.io.loadmat(file1)\n",
    "\n",
    "    model = mat['model']\n",
    "    filters_all = get_filters(model)\n",
    "    defs_all = get_defs(model)\n",
    "    _ms = model['maxsize'][0][0][0]\n",
    "    sbin = model['sbin'][0][0][0][0]\n",
    "    thresh = min(-0.55, model['thresh'][0][0][0][0])\n",
    "    #thresh = min(-50, model['thresh'][0][0][0][0])\n",
    "    pyra_pad = (max(_ms[1] - 2, 0), max(_ms[0] - 2, 0))  # (padx, pady)\n",
    "    components = get_components(model, pyra_pad)\n",
    "\n",
    "\n",
    "    # random component, chosen for debugging\n",
    "    # parts = components[6]\n",
    "    # def_coef = []  # deformation coefficients\n",
    "    # filters = []  # filters for the component chosen\n",
    "    # anchor = []\n",
    "    # bias = parts[tree.root_vertex]['w'][0]\n",
    "    # for c, pk in enumerate(parts):\n",
    "    #     filters.append(filters_all[pk['filterid'] - 1])\n",
    "    #     if c == 0:  # root is on 0 by default in Ramanan\n",
    "    #         (w1, w2, w3, w4) = (0., 0., 0., 0.)\n",
    "    #     else:\n",
    "    #         (w1, w2, w3, w4) = -pk['w']\n",
    "    #     def_coef.append((w1, w2, w3, w4))\n",
    "    #     anchor.append((pk['starty'], pk['startx']))\n",
    "    #\n",
    "    # print filters\n",
    "\n",
    "    im = mio.import_builtin_asset.takeo_ppm()\n",
    "\n",
    "    dpm = DPM(filters_all, defs_all, components)    # todo: this actually should have been learnt from the images\n",
    "    boxes = DPMFitter(dpm).fit(im, thresh)\n",
    "    boxes.sort(key=lambda item: item['s'], reverse=True)\n",
    "    boxes = [boxes[2]]\n",
    "    cc, pick = non_max_suppression_fast(clip_boxes(boxes), 0.3)\n",
    "    lns = bb_to_lns(boxes, pick)\n",
    "    return lns, im"
   ]
  },
  {
   "cell_type": "code",
   "execution_count": 29,
   "metadata": {
    "collapsed": false
   },
   "outputs": [
    {
     "ename": "KeyboardInterrupt",
     "evalue": "",
     "output_type": "error",
     "traceback": [
      "\u001b[1;31m---------------------------------------------------------------------------\u001b[0m",
      "\u001b[1;31mKeyboardInterrupt\u001b[0m                         Traceback (most recent call last)",
      "\u001b[1;32m<ipython-input-29-066106fc6a67>\u001b[0m in \u001b[0;36m<module>\u001b[1;34m()\u001b[0m\n\u001b[1;32m----> 1\u001b[1;33m \u001b[0mlns1\u001b[0m\u001b[1;33m,\u001b[0m \u001b[0mim\u001b[0m \u001b[1;33m=\u001b[0m \u001b[0mdebugging\u001b[0m\u001b[1;33m(\u001b[0m\u001b[1;33m)\u001b[0m\u001b[1;33m\u001b[0m\u001b[0m\n\u001b[0m",
      "\u001b[1;32m<ipython-input-28-3fe9dcce69ec>\u001b[0m in \u001b[0;36mdebugging\u001b[1;34m()\u001b[0m\n\u001b[0;32m    143\u001b[0m \u001b[1;33m\u001b[0m\u001b[0m\n\u001b[0;32m    144\u001b[0m     \u001b[0mdpm\u001b[0m \u001b[1;33m=\u001b[0m \u001b[0mDPM\u001b[0m\u001b[1;33m(\u001b[0m\u001b[0mfilters_all\u001b[0m\u001b[1;33m,\u001b[0m \u001b[0mdefs_all\u001b[0m\u001b[1;33m,\u001b[0m \u001b[0mcomponents\u001b[0m\u001b[1;33m)\u001b[0m    \u001b[1;31m# todo: this actually should have been learnt from the images\u001b[0m\u001b[1;33m\u001b[0m\u001b[0m\n\u001b[1;32m--> 145\u001b[1;33m     \u001b[0mboxes\u001b[0m \u001b[1;33m=\u001b[0m \u001b[0mDPMFitter\u001b[0m\u001b[1;33m(\u001b[0m\u001b[0mdpm\u001b[0m\u001b[1;33m)\u001b[0m\u001b[1;33m.\u001b[0m\u001b[0mfit\u001b[0m\u001b[1;33m(\u001b[0m\u001b[0mim\u001b[0m\u001b[1;33m,\u001b[0m \u001b[0mthresh\u001b[0m\u001b[1;33m)\u001b[0m\u001b[1;33m\u001b[0m\u001b[0m\n\u001b[0m\u001b[0;32m    146\u001b[0m     \u001b[0mboxes\u001b[0m\u001b[1;33m.\u001b[0m\u001b[0msort\u001b[0m\u001b[1;33m(\u001b[0m\u001b[0mkey\u001b[0m\u001b[1;33m=\u001b[0m\u001b[1;32mlambda\u001b[0m \u001b[0mitem\u001b[0m\u001b[1;33m:\u001b[0m \u001b[0mitem\u001b[0m\u001b[1;33m[\u001b[0m\u001b[1;34m's'\u001b[0m\u001b[1;33m]\u001b[0m\u001b[1;33m,\u001b[0m \u001b[0mreverse\u001b[0m\u001b[1;33m=\u001b[0m\u001b[0mTrue\u001b[0m\u001b[1;33m)\u001b[0m\u001b[1;33m\u001b[0m\u001b[0m\n\u001b[0;32m    147\u001b[0m     \u001b[0mboxes\u001b[0m \u001b[1;33m=\u001b[0m \u001b[1;33m[\u001b[0m\u001b[0mboxes\u001b[0m\u001b[1;33m[\u001b[0m\u001b[1;36m2\u001b[0m\u001b[1;33m]\u001b[0m\u001b[1;33m]\u001b[0m\u001b[1;33m\u001b[0m\u001b[0m\n",
      "\u001b[1;32m/vol/atlas/homes/ks3811/menpofit/menpofit/dpm/fitter.pyc\u001b[0m in \u001b[0;36mfit\u001b[1;34m(self, image, threshold)\u001b[0m\n\u001b[0;32m     37\u001b[0m                     \u001b[1;33m(\u001b[0m\u001b[0mw1\u001b[0m\u001b[1;33m,\u001b[0m \u001b[0mw2\u001b[0m\u001b[1;33m,\u001b[0m \u001b[0mw3\u001b[0m\u001b[1;33m,\u001b[0m \u001b[0mw4\u001b[0m\u001b[1;33m)\u001b[0m \u001b[1;33m=\u001b[0m \u001b[1;33m-\u001b[0m\u001b[0mdefs_all\u001b[0m\u001b[1;33m[\u001b[0m\u001b[0mdef_ids\u001b[0m\u001b[1;33m[\u001b[0m\u001b[0mnode\u001b[0m\u001b[1;33m]\u001b[0m \u001b[1;33m-\u001b[0m \u001b[1;36m1\u001b[0m\u001b[1;33m]\u001b[0m\u001b[1;33m\u001b[0m\u001b[0m\n\u001b[0;32m     38\u001b[0m                 \u001b[0mdefs\u001b[0m\u001b[1;33m.\u001b[0m\u001b[0mappend\u001b[0m\u001b[1;33m(\u001b[0m\u001b[1;33m(\u001b[0m\u001b[0mw1\u001b[0m\u001b[1;33m,\u001b[0m \u001b[0mw2\u001b[0m\u001b[1;33m,\u001b[0m \u001b[0mw3\u001b[0m\u001b[1;33m,\u001b[0m \u001b[0mw4\u001b[0m\u001b[1;33m)\u001b[0m\u001b[1;33m)\u001b[0m\u001b[1;33m\u001b[0m\u001b[0m\n\u001b[1;32m---> 39\u001b[1;33m             \u001b[0mboxes\u001b[0m\u001b[1;33m.\u001b[0m\u001b[0mextend\u001b[0m\u001b[1;33m(\u001b[0m\u001b[0mself\u001b[0m\u001b[1;33m.\u001b[0m\u001b[0m_fit\u001b[0m\u001b[1;33m(\u001b[0m\u001b[0mfeats\u001b[0m\u001b[1;33m,\u001b[0m \u001b[0mscales\u001b[0m\u001b[1;33m,\u001b[0m \u001b[0mpadding\u001b[0m\u001b[1;33m,\u001b[0m \u001b[0mthreshold\u001b[0m\u001b[1;33m,\u001b[0m \u001b[0mfilters\u001b[0m\u001b[1;33m,\u001b[0m \u001b[0mdefs\u001b[0m\u001b[1;33m,\u001b[0m \u001b[0manchors\u001b[0m\u001b[1;33m,\u001b[0m \u001b[0mbias\u001b[0m\u001b[1;33m,\u001b[0m \u001b[0mtree\u001b[0m\u001b[1;33m)\u001b[0m\u001b[1;33m)\u001b[0m\u001b[1;33m\u001b[0m\u001b[0m\n\u001b[0m\u001b[0;32m     40\u001b[0m         \u001b[1;32mreturn\u001b[0m \u001b[0mboxes\u001b[0m\u001b[1;33m\u001b[0m\u001b[0m\n\u001b[0;32m     41\u001b[0m \u001b[1;33m\u001b[0m\u001b[0m\n",
      "\u001b[1;32m/vol/atlas/homes/ks3811/menpofit/menpofit/dpm/fitter.pyc\u001b[0m in \u001b[0;36m_fit\u001b[1;34m(self, feats, scales, padding, threshold, filters, defs, anchors, bias, tree)\u001b[0m\n\u001b[0;32m     52\u001b[0m             \u001b[0mscores\u001b[0m\u001b[1;33m,\u001b[0m \u001b[0mIx\u001b[0m\u001b[1;33m,\u001b[0m \u001b[0mIy\u001b[0m \u001b[1;33m=\u001b[0m \u001b[0m_compute_pairwise_scores\u001b[0m\u001b[1;33m(\u001b[0m\u001b[0mnp\u001b[0m\u001b[1;33m.\u001b[0m\u001b[0mcopy\u001b[0m\u001b[1;33m(\u001b[0m\u001b[0munary_scores\u001b[0m\u001b[1;33m)\u001b[0m\u001b[1;33m,\u001b[0m \u001b[0mtree\u001b[0m\u001b[1;33m,\u001b[0m \u001b[0mdefs\u001b[0m\u001b[1;33m,\u001b[0m \u001b[0manchors\u001b[0m\u001b[1;33m)\u001b[0m\u001b[1;33m\u001b[0m\u001b[0m\n\u001b[0;32m     53\u001b[0m \u001b[1;33m\u001b[0m\u001b[0m\n\u001b[1;32m---> 54\u001b[1;33m             \u001b[0mscale\u001b[0m \u001b[1;33m=\u001b[0m \u001b[0mscales\u001b[0m\u001b[1;33m[\u001b[0m\u001b[0mlevel\u001b[0m\u001b[1;33m]\u001b[0m\u001b[1;33m\u001b[0m\u001b[0m\n\u001b[0m\u001b[0;32m     55\u001b[0m             \u001b[0mrscore\u001b[0m \u001b[1;33m=\u001b[0m \u001b[0mscores\u001b[0m\u001b[1;33m[\u001b[0m\u001b[0mtree\u001b[0m\u001b[1;33m.\u001b[0m\u001b[0mroot_vertex\u001b[0m\u001b[1;33m]\u001b[0m \u001b[1;33m+\u001b[0m \u001b[0mbias\u001b[0m\u001b[1;33m\u001b[0m\u001b[0m\n\u001b[0;32m     56\u001b[0m \u001b[1;33m\u001b[0m\u001b[0m\n",
      "\u001b[1;32m/vol/atlas/homes/ks3811/menpofit/menpofit/dpm/fitter.pyc\u001b[0m in \u001b[0;36m_compute_pairwise_scores\u001b[1;34m(scores, tree, def_coef, anchor)\u001b[0m\n\u001b[0;32m    111\u001b[0m         \u001b[1;32mfor\u001b[0m \u001b[0mcurr_vert\u001b[0m \u001b[1;32min\u001b[0m \u001b[0mtree\u001b[0m\u001b[1;33m.\u001b[0m\u001b[0mvertices_at_depth\u001b[0m\u001b[1;33m(\u001b[0m\u001b[0mdepth\u001b[0m\u001b[1;33m)\u001b[0m\u001b[1;33m:\u001b[0m\u001b[1;33m\u001b[0m\u001b[0m\n\u001b[0;32m    112\u001b[0m             \u001b[1;33m(\u001b[0m\u001b[0mNy\u001b[0m\u001b[1;33m,\u001b[0m \u001b[0mNx\u001b[0m\u001b[1;33m)\u001b[0m \u001b[1;33m=\u001b[0m \u001b[0mscores\u001b[0m\u001b[1;33m[\u001b[0m\u001b[0mtree\u001b[0m\u001b[1;33m.\u001b[0m\u001b[0mparent\u001b[0m\u001b[1;33m(\u001b[0m\u001b[0mcurr_vert\u001b[0m\u001b[1;33m)\u001b[0m\u001b[1;33m]\u001b[0m\u001b[1;33m.\u001b[0m\u001b[0mshape\u001b[0m\u001b[1;33m\u001b[0m\u001b[0m\n\u001b[1;32m--> 113\u001b[1;33m             \u001b[0mw\u001b[0m \u001b[1;33m=\u001b[0m \u001b[0mdef_coef\u001b[0m\u001b[1;33m[\u001b[0m\u001b[0mcurr_vert\u001b[0m\u001b[1;33m]\u001b[0m\u001b[1;33m\u001b[0m\u001b[0m\n\u001b[0m\u001b[0;32m    114\u001b[0m             \u001b[0mcy\u001b[0m \u001b[1;33m=\u001b[0m \u001b[0manchor\u001b[0m\u001b[1;33m[\u001b[0m\u001b[0mcurr_vert\u001b[0m\u001b[1;33m]\u001b[0m\u001b[1;33m[\u001b[0m\u001b[1;36m0\u001b[0m\u001b[1;33m]\u001b[0m\u001b[1;33m\u001b[0m\u001b[0m\n\u001b[0;32m    115\u001b[0m             \u001b[0mcx\u001b[0m \u001b[1;33m=\u001b[0m \u001b[0manchor\u001b[0m\u001b[1;33m[\u001b[0m\u001b[0mcurr_vert\u001b[0m\u001b[1;33m]\u001b[0m\u001b[1;33m[\u001b[0m\u001b[1;36m1\u001b[0m\u001b[1;33m]\u001b[0m\u001b[1;33m\u001b[0m\u001b[0m\n",
      "\u001b[1;32m/vol/atlas/homes/ks3811/menpo/menpo/shape/graph.pyc\u001b[0m in \u001b[0;36mvertices_at_depth\u001b[1;34m(self, depth)\u001b[0m\n\u001b[0;32m   1325\u001b[0m         \u001b[0mver\u001b[0m \u001b[1;33m=\u001b[0m \u001b[1;33m[\u001b[0m\u001b[1;33m]\u001b[0m\u001b[1;33m\u001b[0m\u001b[0m\n\u001b[0;32m   1326\u001b[0m         \u001b[1;32mfor\u001b[0m \u001b[0mv\u001b[0m \u001b[1;32min\u001b[0m \u001b[0mrange\u001b[0m\u001b[1;33m(\u001b[0m\u001b[0mself\u001b[0m\u001b[1;33m.\u001b[0m\u001b[0mn_vertices\u001b[0m\u001b[1;33m)\u001b[0m\u001b[1;33m:\u001b[0m\u001b[1;33m\u001b[0m\u001b[0m\n\u001b[1;32m-> 1327\u001b[1;33m             \u001b[1;32mif\u001b[0m \u001b[0mself\u001b[0m\u001b[1;33m.\u001b[0m\u001b[0mdepth_of_vertex\u001b[0m\u001b[1;33m(\u001b[0m\u001b[0mv\u001b[0m\u001b[1;33m)\u001b[0m \u001b[1;33m==\u001b[0m \u001b[0mdepth\u001b[0m\u001b[1;33m:\u001b[0m\u001b[1;33m\u001b[0m\u001b[0m\n\u001b[0m\u001b[0;32m   1328\u001b[0m                 \u001b[0mver\u001b[0m\u001b[1;33m.\u001b[0m\u001b[0mappend\u001b[0m\u001b[1;33m(\u001b[0m\u001b[0mv\u001b[0m\u001b[1;33m)\u001b[0m\u001b[1;33m\u001b[0m\u001b[0m\n\u001b[0;32m   1329\u001b[0m         \u001b[1;32mreturn\u001b[0m \u001b[0mver\u001b[0m\u001b[1;33m\u001b[0m\u001b[0m\n",
      "\u001b[1;32m/vol/atlas/homes/ks3811/menpo/menpo/shape/graph.pyc\u001b[0m in \u001b[0;36mdepth_of_vertex\u001b[1;34m(self, vertex, skip_checks)\u001b[0m\n\u001b[0;32m   1290\u001b[0m         \"\"\"\n\u001b[0;32m   1291\u001b[0m         \u001b[1;32mif\u001b[0m \u001b[1;32mnot\u001b[0m \u001b[0mskip_checks\u001b[0m\u001b[1;33m:\u001b[0m\u001b[1;33m\u001b[0m\u001b[0m\n\u001b[1;32m-> 1292\u001b[1;33m             \u001b[0mself\u001b[0m\u001b[1;33m.\u001b[0m\u001b[0m_check_vertex\u001b[0m\u001b[1;33m(\u001b[0m\u001b[0mvertex\u001b[0m\u001b[1;33m)\u001b[0m\u001b[1;33m\u001b[0m\u001b[0m\n\u001b[0m\u001b[0;32m   1293\u001b[0m         \u001b[0mparent\u001b[0m \u001b[1;33m=\u001b[0m \u001b[0mvertex\u001b[0m\u001b[1;33m\u001b[0m\u001b[0m\n\u001b[0;32m   1294\u001b[0m         \u001b[0mdepth\u001b[0m \u001b[1;33m=\u001b[0m \u001b[1;36m0\u001b[0m\u001b[1;33m\u001b[0m\u001b[0m\n",
      "\u001b[1;32m/vol/atlas/homes/ks3811/menpo/menpo/shape/graph.pyc\u001b[0m in \u001b[0;36m_check_vertex\u001b[1;34m(self, vertex)\u001b[0m\n\u001b[0;32m    620\u001b[0m             \u001b[0mThe\u001b[0m \u001b[0mvertex\u001b[0m \u001b[0mmust\u001b[0m \u001b[0mbe\u001b[0m \u001b[0mbetween\u001b[0m \u001b[1;36m0\u001b[0m \u001b[1;32mand\u001b[0m \u001b[1;33m{\u001b[0m\u001b[0mn_vertices\u001b[0m\u001b[1;33m-\u001b[0m\u001b[1;36m1\u001b[0m\u001b[1;33m}\u001b[0m\u001b[1;33m.\u001b[0m\u001b[1;33m\u001b[0m\u001b[0m\n\u001b[0;32m    621\u001b[0m         \"\"\"\n\u001b[1;32m--> 622\u001b[1;33m         \u001b[1;32mif\u001b[0m \u001b[0mvertex\u001b[0m \u001b[1;33m>\u001b[0m \u001b[0mself\u001b[0m\u001b[1;33m.\u001b[0m\u001b[0mn_vertices\u001b[0m \u001b[1;33m-\u001b[0m \u001b[1;36m1\u001b[0m \u001b[1;32mor\u001b[0m \u001b[0mvertex\u001b[0m \u001b[1;33m<\u001b[0m \u001b[1;36m0\u001b[0m\u001b[1;33m:\u001b[0m\u001b[1;33m\u001b[0m\u001b[0m\n\u001b[0m\u001b[0;32m    623\u001b[0m             raise ValueError('The vertex must be between '\n\u001b[0;32m    624\u001b[0m                              '0 and {}.'.format(self.n_vertices - 1))\n",
      "\u001b[1;32m/vol/atlas/homes/ks3811/menpo/menpo/shape/graph.pyc\u001b[0m in \u001b[0;36mn_vertices\u001b[1;34m(self)\u001b[0m\n\u001b[0;32m    269\u001b[0m         \u001b[1;33m:\u001b[0m\u001b[0mtype\u001b[0m\u001b[1;33m:\u001b[0m \u001b[1;33m`\u001b[0m\u001b[0mint\u001b[0m\u001b[1;33m`\u001b[0m\u001b[1;33m\u001b[0m\u001b[0m\n\u001b[0;32m    270\u001b[0m         \"\"\"\n\u001b[1;32m--> 271\u001b[1;33m         \u001b[1;32mreturn\u001b[0m \u001b[0mself\u001b[0m\u001b[1;33m.\u001b[0m\u001b[0madjacency_matrix\u001b[0m\u001b[1;33m.\u001b[0m\u001b[0mshape\u001b[0m\u001b[1;33m[\u001b[0m\u001b[1;36m0\u001b[0m\u001b[1;33m]\u001b[0m\u001b[1;33m\u001b[0m\u001b[0m\n\u001b[0m\u001b[0;32m    272\u001b[0m \u001b[1;33m\u001b[0m\u001b[0m\n\u001b[0;32m    273\u001b[0m     \u001b[1;33m@\u001b[0m\u001b[0mproperty\u001b[0m\u001b[1;33m\u001b[0m\u001b[0m\n",
      "\u001b[1;31mKeyboardInterrupt\u001b[0m: "
     ]
    }
   ],
   "source": [
    "lns1, im = debugging()"
   ]
  },
  {
   "cell_type": "code",
   "execution_count": null,
   "metadata": {
    "collapsed": false
   },
   "outputs": [],
   "source": [
    "from menpo.shape import PointCloud\n",
    "im.landmarks['PTS'] = PointCloud(lns1[0])\n",
    "im2 = im.crop_to_landmarks_proportion(0.2)\n",
    "im2.view_landmarks(render_numbering=True, figure_size=(22, 16))"
   ]
  },
  {
   "cell_type": "code",
   "execution_count": null,
   "metadata": {
    "collapsed": true
   },
   "outputs": [],
   "source": [
    "im2.crop([0,0], [50,50])"
   ]
  }
 ],
 "metadata": {
  "kernelspec": {
   "display_name": "Python 2",
   "language": "python",
   "name": "python2"
  },
  "language_info": {
   "codemirror_mode": {
    "name": "ipython",
    "version": 2
   },
   "file_extension": ".py",
   "mimetype": "text/x-python",
   "name": "python",
   "nbconvert_exporter": "python",
   "pygments_lexer": "ipython2",
   "version": "2.7.10"
  }
 },
 "nbformat": 4,
 "nbformat_minor": 0
}
